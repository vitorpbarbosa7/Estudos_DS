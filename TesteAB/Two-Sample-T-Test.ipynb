{
 "cells": [
  {
   "cell_type": "code",
   "execution_count": 3,
   "id": "7909fa2b",
   "metadata": {},
   "outputs": [],
   "source": [
    "c = 'a'"
   ]
  },
  {
   "cell_type": "code",
   "execution_count": 4,
   "id": "c890a262",
   "metadata": {
    "collapsed": true
   },
   "outputs": [
    {
     "name": "stderr",
     "output_type": "stream",
     "text": [
      "also installing the dependencies 'fansi', 'pkgconfig', 'purrr', 'cli', 'utf8', 'ellipsis', 'generics', 'glue', 'lifecycle', 'magrittr', 'R6', 'rlang', 'tibble', 'tidyselect', 'vctrs', 'pillar'\n",
      "\n"
     ]
    },
    {
     "name": "stdout",
     "output_type": "stream",
     "text": [
      "\n",
      "  There are binary versions available but the source versions are later:\n",
      "       binary source needs_compilation\n",
      "fansi   0.4.2  0.5.0              TRUE\n",
      "cli     2.5.0  3.0.1              TRUE\n",
      "utf8    1.2.1  1.2.2              TRUE\n",
      "tibble  3.1.1  3.1.3              TRUE\n",
      "pillar  1.6.0  1.6.2             FALSE\n",
      "dplyr   1.0.6  1.0.7              TRUE\n",
      "\n",
      "  Binaries will be installed\n",
      "package 'fansi' successfully unpacked and MD5 sums checked\n",
      "package 'pkgconfig' successfully unpacked and MD5 sums checked\n",
      "package 'purrr' successfully unpacked and MD5 sums checked\n",
      "package 'cli' successfully unpacked and MD5 sums checked\n",
      "package 'utf8' successfully unpacked and MD5 sums checked\n",
      "package 'ellipsis' successfully unpacked and MD5 sums checked\n",
      "package 'generics' successfully unpacked and MD5 sums checked\n",
      "package 'glue' successfully unpacked and MD5 sums checked\n",
      "package 'lifecycle' successfully unpacked and MD5 sums checked\n",
      "package 'magrittr' successfully unpacked and MD5 sums checked\n",
      "package 'R6' successfully unpacked and MD5 sums checked\n",
      "package 'rlang' successfully unpacked and MD5 sums checked\n",
      "package 'tibble' successfully unpacked and MD5 sums checked\n",
      "package 'tidyselect' successfully unpacked and MD5 sums checked\n",
      "package 'vctrs' successfully unpacked and MD5 sums checked\n",
      "package 'dplyr' successfully unpacked and MD5 sums checked\n",
      "\n",
      "The downloaded binary packages are in\n",
      "\tC:\\Users\\vitor\\AppData\\Local\\Temp\\Rtmp86RjTY\\downloaded_packages\n"
     ]
    },
    {
     "name": "stderr",
     "output_type": "stream",
     "text": [
      "installing the source package 'pillar'\n",
      "\n"
     ]
    }
   ],
   "source": [
    "install.packages('dplyr')"
   ]
  },
  {
   "cell_type": "code",
   "execution_count": 5,
   "id": "f5f044b5",
   "metadata": {
    "collapsed": true
   },
   "outputs": [
    {
     "name": "stderr",
     "output_type": "stream",
     "text": [
      "Warning message:\n",
      "\"package 'dplyr' was built under R version 3.6.3\"\n",
      "Attaching package: 'dplyr'\n",
      "\n",
      "The following objects are masked from 'package:stats':\n",
      "\n",
      "    filter, lag\n",
      "\n",
      "The following objects are masked from 'package:base':\n",
      "\n",
      "    intersect, setdiff, setequal, union\n",
      "\n"
     ]
    }
   ],
   "source": [
    "library('dplyr')"
   ]
  },
  {
   "cell_type": "code",
   "execution_count": 6,
   "id": "ec672221",
   "metadata": {},
   "outputs": [],
   "source": [
    "data = read.csv('rdata.csv')"
   ]
  },
  {
   "cell_type": "code",
   "execution_count": 10,
   "id": "eab723de",
   "metadata": {},
   "outputs": [
    {
     "data": {
      "text/html": [
       "<ol class=list-inline>\n",
       "\t<li>'user_id'</li>\n",
       "\t<li>'timestamp'</li>\n",
       "\t<li>'group'</li>\n",
       "\t<li>'landing_page'</li>\n",
       "\t<li>'converted'</li>\n",
       "</ol>\n"
      ],
      "text/latex": [
       "\\begin{enumerate*}\n",
       "\\item 'user\\_id'\n",
       "\\item 'timestamp'\n",
       "\\item 'group'\n",
       "\\item 'landing\\_page'\n",
       "\\item 'converted'\n",
       "\\end{enumerate*}\n"
      ],
      "text/markdown": [
       "1. 'user_id'\n",
       "2. 'timestamp'\n",
       "3. 'group'\n",
       "4. 'landing_page'\n",
       "5. 'converted'\n",
       "\n",
       "\n"
      ],
      "text/plain": [
       "[1] \"user_id\"      \"timestamp\"    \"group\"        \"landing_page\" \"converted\"   "
      ]
     },
     "metadata": {},
     "output_type": "display_data"
    }
   ],
   "source": [
    "names(data)"
   ]
  },
  {
   "cell_type": "code",
   "execution_count": 11,
   "id": "ddc5ea36",
   "metadata": {},
   "outputs": [
    {
     "data": {
      "text/html": [
       "<table>\n",
       "<thead><tr><th scope=col>landing_page</th><th scope=col>count</th><th scope=col>mean</th><th scope=col>sd</th></tr></thead>\n",
       "<tbody>\n",
       "\t<tr><td>new_page </td><td>143397   </td><td>0.1187263</td><td>0.3234673</td></tr>\n",
       "\t<tr><td>old_page </td><td>143293   </td><td>0.1201734</td><td>0.3251653</td></tr>\n",
       "</tbody>\n",
       "</table>\n"
      ],
      "text/latex": [
       "\\begin{tabular}{r|llll}\n",
       " landing\\_page & count & mean & sd\\\\\n",
       "\\hline\n",
       "\t new\\_page & 143397     & 0.1187263  & 0.3234673 \\\\\n",
       "\t old\\_page & 143293     & 0.1201734  & 0.3251653 \\\\\n",
       "\\end{tabular}\n"
      ],
      "text/markdown": [
       "\n",
       "| landing_page | count | mean | sd |\n",
       "|---|---|---|---|\n",
       "| new_page  | 143397    | 0.1187263 | 0.3234673 |\n",
       "| old_page  | 143293    | 0.1201734 | 0.3251653 |\n",
       "\n"
      ],
      "text/plain": [
       "  landing_page count  mean      sd       \n",
       "1 new_page     143397 0.1187263 0.3234673\n",
       "2 old_page     143293 0.1201734 0.3251653"
      ]
     },
     "metadata": {},
     "output_type": "display_data"
    }
   ],
   "source": [
    "group_by(data, landing_page) %>%\n",
    "    summarise(\n",
    "        count = n(),\n",
    "        mean = mean(converted, na.rm = TRUE),\n",
    "        sd = sd(converted, na.rm = TRUE))"
   ]
  },
  {
   "cell_type": "code",
   "execution_count": 12,
   "id": "8e7b60d7",
   "metadata": {},
   "outputs": [],
   "source": [
    "before <- subset(data,  landing_page == \"new_page\", converted,\n",
    "                 drop = TRUE)\n",
    "# subset weight data after treatment\n",
    "after <- subset(data,  group == \"old_page\", converted,\n",
    "                 drop = TRUE)"
   ]
  },
  {
   "cell_type": "code",
   "execution_count": 15,
   "id": "fad794e0",
   "metadata": {},
   "outputs": [
    {
     "data": {
      "text/plain": [
       "\n",
       "\tWelch Two Sample t-test\n",
       "\n",
       "data:  converted by landing_page\n",
       "t = -1.1945, df = 286678, p-value = 0.2323\n",
       "alternative hypothesis: true difference in means is not equal to 0\n",
       "95 percent confidence interval:\n",
       " -0.003821366  0.000927330\n",
       "sample estimates:\n",
       "mean in group new_page mean in group old_page \n",
       "             0.1187263              0.1201734 \n"
      ]
     },
     "metadata": {},
     "output_type": "display_data"
    }
   ],
   "source": [
    "t.test(converted ~ landing_page, data = data, paired = FALSE)"
   ]
  },
  {
   "cell_type": "code",
   "execution_count": null,
   "id": "14550ccd",
   "metadata": {},
   "outputs": [],
   "source": []
  }
 ],
 "metadata": {
  "kernelspec": {
   "display_name": "R",
   "language": "R",
   "name": "ir"
  },
  "language_info": {
   "codemirror_mode": "r",
   "file_extension": ".r",
   "mimetype": "text/x-r-source",
   "name": "R",
   "pygments_lexer": "r",
   "version": "3.6.1"
  }
 },
 "nbformat": 4,
 "nbformat_minor": 5
}
